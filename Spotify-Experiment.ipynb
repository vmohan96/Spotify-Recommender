{
 "cells": [
  {
   "cell_type": "markdown",
   "metadata": {},
   "source": [
    "## Spotify API Test"
   ]
  },
  {
   "cell_type": "code",
   "execution_count": 3,
   "metadata": {},
   "outputs": [],
   "source": [
    "import requests\n",
    "import time"
   ]
  },
  {
   "cell_type": "code",
   "execution_count": 4,
   "metadata": {},
   "outputs": [],
   "source": [
    "CLIENT_ID = 'a6b3054cbe6d4d6c93e53e153cffbb78'\n",
    "CLIENT_SECRET = 'd2ae41a2b9c6407996dd09179c5d9ce0'"
   ]
  },
  {
   "cell_type": "code",
   "execution_count": 5,
   "metadata": {},
   "outputs": [],
   "source": [
    "AUTH_URL = 'https://accounts.spotify.com/api/token'\n",
    "\n",
    "# POST\n",
    "auth_response = requests.post(AUTH_URL, {\n",
    "    'grant_type': 'client_credentials',\n",
    "    'client_id': CLIENT_ID,\n",
    "    'client_secret': CLIENT_SECRET,\n",
    "})\n",
    "\n",
    "# convert the response to JSON\n",
    "auth_response_data = auth_response.json()\n",
    "\n",
    "# save the access token\n",
    "access_token = auth_response_data['access_token']"
   ]
  },
  {
   "cell_type": "code",
   "execution_count": 6,
   "metadata": {},
   "outputs": [
    {
     "data": {
      "text/plain": [
       "{'access_token': 'BQCY71Dy895N4P9J12M9bCHd0VeNTsVqjPrQDVJ5O1M6rlJHFhb54AGSgq6l3FRDaUpurmPd5qpTad3Dxek',\n",
       " 'token_type': 'Bearer',\n",
       " 'expires_in': 3600}"
      ]
     },
     "execution_count": 6,
     "metadata": {},
     "output_type": "execute_result"
    }
   ],
   "source": [
    "auth_response_data"
   ]
  },
  {
   "cell_type": "code",
   "execution_count": 7,
   "metadata": {},
   "outputs": [],
   "source": [
    "headers = {\n",
    "    'Authorization': 'Bearer {token}'.format(token=access_token)\n",
    "}"
   ]
  },
  {
   "cell_type": "code",
   "execution_count": 8,
   "metadata": {
    "tags": []
   },
   "outputs": [],
   "source": [
    "def get_features(link):\n",
    "    BASE_URL = 'https://api.spotify.com/v1/'\n",
    "    track_id = link.split('track/')[1]\n",
    "    r = requests.get(BASE_URL + 'audio-features/' + track_id, headers=headers)\n",
    "    \n",
    "    return r.json()"
   ]
  },
  {
   "cell_type": "code",
   "execution_count": 13,
   "metadata": {},
   "outputs": [
    {
     "data": {
      "text/plain": [
       "{'danceability': 0.347,\n",
       " 'energy': 0.769,\n",
       " 'key': 8,\n",
       " 'loudness': -7.747,\n",
       " 'mode': 1,\n",
       " 'speechiness': 0.0614,\n",
       " 'acousticness': 0.0322,\n",
       " 'instrumentalness': 0.000737,\n",
       " 'liveness': 0.117,\n",
       " 'valence': 0.524,\n",
       " 'tempo': 118.074,\n",
       " 'type': 'audio_features',\n",
       " 'id': '26ky3sBMKv31Kpvil5pGDh',\n",
       " 'uri': 'spotify:track:26ky3sBMKv31Kpvil5pGDh',\n",
       " 'track_href': 'https://api.spotify.com/v1/tracks/26ky3sBMKv31Kpvil5pGDh',\n",
       " 'analysis_url': 'https://api.spotify.com/v1/audio-analysis/26ky3sBMKv31Kpvil5pGDh',\n",
       " 'duration_ms': 165680,\n",
       " 'time_signature': 4}"
      ]
     },
     "execution_count": 13,
     "metadata": {},
     "output_type": "execute_result"
    }
   ],
   "source": [
    "get_features('https://open.spotify.com/track/26ky3sBMKv31Kpvil5pGDh?si=82b5aa28c0374ead')"
   ]
  },
  {
   "cell_type": "code",
   "execution_count": 16,
   "metadata": {},
   "outputs": [],
   "source": [
    "def get_track(link):\n",
    "    BASE_URL = 'https://api.spotify.com/v1/'\n",
    "    track_id = link.split('track/')[1]\n",
    "    r = requests.get(BASE_URL + 'tracks/' + track_id, headers=headers)\n",
    "    \n",
    "    return r.json()"
   ]
  },
  {
   "cell_type": "code",
   "execution_count": 21,
   "metadata": {},
   "outputs": [
    {
     "data": {
      "text/plain": [
       "'Dear Wormwood'"
      ]
     },
     "execution_count": 21,
     "metadata": {},
     "output_type": "execute_result"
    }
   ],
   "source": [
    "get_track('https://open.spotify.com/track/26ky3sBMKv31Kpvil5pGDh?si=82b5aa28c0374ead')"
   ]
  },
  {
   "cell_type": "code",
   "execution_count": 22,
   "metadata": {},
   "outputs": [],
   "source": [
    "def get_analysis(link):\n",
    "    BASE_URL = 'https://api.spotify.com/v1/'\n",
    "    track_id = link.split('track/')[1]\n",
    "    r = requests.get(BASE_URL + 'audio-analysis/' + track_id, headers=headers)\n",
    "    \n",
    "    return r.json()"
   ]
  },
  {
   "cell_type": "code",
   "execution_count": null,
   "metadata": {},
   "outputs": [],
   "source": [
    " "
   ]
  },
  {
   "cell_type": "code",
   "execution_count": null,
   "metadata": {},
   "outputs": [],
   "source": []
  }
 ],
 "metadata": {
  "kernelspec": {
   "display_name": "Python 3",
   "language": "python",
   "name": "python3"
  },
  "language_info": {
   "codemirror_mode": {
    "name": "ipython",
    "version": 3
   },
   "file_extension": ".py",
   "mimetype": "text/x-python",
   "name": "python",
   "nbconvert_exporter": "python",
   "pygments_lexer": "ipython3",
   "version": "3.8.3"
  }
 },
 "nbformat": 4,
 "nbformat_minor": 4
}
